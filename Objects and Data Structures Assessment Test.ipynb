{
 "cells": [
  {
   "cell_type": "code",
   "execution_count": 5,
   "id": "1f7adb50",
   "metadata": {},
   "outputs": [
    {
     "name": "stdout",
     "output_type": "stream",
     "text": [
      "olleh\n"
     ]
    }
   ],
   "source": [
    "#String Reversal\n",
    "\n",
    "s ='hello'\n",
    "print(s[::-1])"
   ]
  },
  {
   "cell_type": "code",
   "execution_count": 6,
   "id": "7c4434ba",
   "metadata": {},
   "outputs": [
    {
     "name": "stdout",
     "output_type": "stream",
     "text": [
      "o\n",
      "o\n"
     ]
    }
   ],
   "source": [
    "#Two separe methods of obtaining the last letter\n",
    "\n",
    "s ='hello'\n",
    "print(s[4])\n",
    "print(s[-1])"
   ]
  },
  {
   "cell_type": "code",
   "execution_count": 7,
   "id": "c0442016",
   "metadata": {},
   "outputs": [
    {
     "name": "stdout",
     "output_type": "stream",
     "text": [
      "[0, 0, 0]\n",
      "[0, 0, 0]\n"
     ]
    }
   ],
   "source": [
    "#Build this list [0,0,0] two separate ways.\n",
    "\n",
    "list1 = [0]*3\n",
    "list2 = [0,0,0]\n",
    "print(list1)\n",
    "print(list2)"
   ]
  },
  {
   "cell_type": "code",
   "execution_count": 8,
   "id": "a232b5d7",
   "metadata": {},
   "outputs": [
    {
     "name": "stdout",
     "output_type": "stream",
     "text": [
      "[1, 2, [3, 4, 'goodbye']]\n"
     ]
    }
   ],
   "source": [
    "#Reassign 'hello' in this nested list to say 'goodbye'\n",
    "\n",
    "list3 = [1,2,[3,4,'hello']]\n",
    "list3[2][2] = 'goodbye'\n",
    "print(list3)"
   ]
  },
  {
   "cell_type": "code",
   "execution_count": 24,
   "id": "d6be048a",
   "metadata": {},
   "outputs": [
    {
     "name": "stdout",
     "output_type": "stream",
     "text": [
      "[1, 3, 4, 5, 6]\n",
      "[1, 3, 4, 5, 6]\n"
     ]
    }
   ],
   "source": [
    "#Sort the list below:\n",
    "\n",
    "list4 = [5,3,4,6,1]\n",
    "print(sorted(list4))\n",
    "list4.sort()\n",
    "list4\n",
    "print(list4)"
   ]
  },
  {
   "cell_type": "code",
   "execution_count": 13,
   "id": "bac2e9c0",
   "metadata": {},
   "outputs": [
    {
     "name": "stdout",
     "output_type": "stream",
     "text": [
      "hello\n"
     ]
    }
   ],
   "source": [
    "# Grab 'hello'\n",
    "\n",
    "d = {'k1':{'k2':'hello'}}\n",
    "\n",
    "print(d['k1']['k2'])"
   ]
  },
  {
   "cell_type": "code",
   "execution_count": 21,
   "id": "fdcb2325",
   "metadata": {},
   "outputs": [
    {
     "name": "stdout",
     "output_type": "stream",
     "text": [
      "hello\n"
     ]
    }
   ],
   "source": [
    "#Grab hello\n",
    "\n",
    "d = {'k1':[{'nest_key':['this is deep',['hello']]}]}\n",
    "print(d['k1'][0]['nest_key'][1][0])"
   ]
  },
  {
   "cell_type": "code",
   "execution_count": 22,
   "id": "fcebca23",
   "metadata": {},
   "outputs": [
    {
     "name": "stdout",
     "output_type": "stream",
     "text": [
      "{1, 2, 33, 4, 3, 11, 22}\n"
     ]
    }
   ],
   "source": [
    "#set\n",
    "\n",
    "list5 = [1,2,2,33,4,4,11,22,3,3,2]\n",
    "list6 = set(list5)\n",
    "print(list6)"
   ]
  },
  {
   "cell_type": "code",
   "execution_count": 23,
   "id": "3f836ef8",
   "metadata": {},
   "outputs": [
    {
     "data": {
      "text/plain": [
       "10.0"
      ]
     },
     "execution_count": 23,
     "metadata": {},
     "output_type": "execute_result"
    }
   ],
   "source": [
    "# Square root:\n",
    "100 ** 0.5"
   ]
  },
  {
   "cell_type": "code",
   "execution_count": null,
   "id": "dc546580",
   "metadata": {},
   "outputs": [],
   "source": []
  },
  {
   "cell_type": "code",
   "execution_count": null,
   "id": "60b3f6b0",
   "metadata": {},
   "outputs": [],
   "source": []
  }
 ],
 "metadata": {
  "kernelspec": {
   "display_name": "Python 3 (ipykernel)",
   "language": "python",
   "name": "python3"
  },
  "language_info": {
   "codemirror_mode": {
    "name": "ipython",
    "version": 3
   },
   "file_extension": ".py",
   "mimetype": "text/x-python",
   "name": "python",
   "nbconvert_exporter": "python",
   "pygments_lexer": "ipython3",
   "version": "3.11.4"
  }
 },
 "nbformat": 4,
 "nbformat_minor": 5
}
