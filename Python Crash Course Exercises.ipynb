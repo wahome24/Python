{
 "cells": [
  {
   "cell_type": "code",
   "execution_count": 1,
   "id": "bdd170ef",
   "metadata": {},
   "outputs": [
    {
     "name": "stdout",
     "output_type": "stream",
     "text": [
      "2401\n"
     ]
    }
   ],
   "source": [
    "print(7**4)"
   ]
  },
  {
   "cell_type": "code",
   "execution_count": 2,
   "id": "8873c485",
   "metadata": {},
   "outputs": [
    {
     "name": "stdout",
     "output_type": "stream",
     "text": [
      "['Hi', 'there', 'Sam!']\n"
     ]
    }
   ],
   "source": [
    "#Split this string\n",
    "s = \"Hi there Sam!\"\n",
    "print(s.split())"
   ]
  },
  {
   "cell_type": "code",
   "execution_count": 3,
   "id": "c443fd3c",
   "metadata": {},
   "outputs": [
    {
     "name": "stdout",
     "output_type": "stream",
     "text": [
      "The diameter of Earth is 12742 kilometres.\n"
     ]
    }
   ],
   "source": [
    "#Use .format() to create a sentence\n",
    "\n",
    "planet = \"Earth\"\n",
    "diameter = 12742\n",
    "\n",
    "print('The diameter of {} is {} kilometres.'.format(planet,diameter))"
   ]
  },
  {
   "cell_type": "code",
   "execution_count": 9,
   "id": "fc485a4e",
   "metadata": {},
   "outputs": [
    {
     "name": "stdout",
     "output_type": "stream",
     "text": [
      "hello\n"
     ]
    }
   ],
   "source": [
    "#Given this nested list, use indexing to grab the word \"hello\"\n",
    "\n",
    "lst = [1,2,[3,4],[5,[100,200,['hello']],23,11],1,7]\n",
    "print(lst[3][1][2][0])"
   ]
  },
  {
   "cell_type": "code",
   "execution_count": 9,
   "id": "b0734433",
   "metadata": {},
   "outputs": [
    {
     "name": "stdout",
     "output_type": "stream",
     "text": [
      "google.com\n"
     ]
    }
   ],
   "source": [
    "#Create a function that grabs the email website domain\n",
    "\n",
    "def email(domain):\n",
    "    \n",
    "    x = domain.split('@')\n",
    "    return x[1]\n",
    "\n",
    "print(email('erastus.wahome@google.com'))\n"
   ]
  },
  {
   "cell_type": "code",
   "execution_count": 22,
   "id": "7f66ed89",
   "metadata": {},
   "outputs": [
    {
     "name": "stdout",
     "output_type": "stream",
     "text": [
      "True\n"
     ]
    }
   ],
   "source": [
    "#Create a basic function that returns True if the word 'dog' is contained in the input string\n",
    "\n",
    "def trial(ras):\n",
    "    return 'dog' in ras\n",
    "\n",
    "print(trial('Is there a Dog here?'.lower()))"
   ]
  },
  {
   "cell_type": "code",
   "execution_count": 32,
   "id": "00141e57",
   "metadata": {},
   "outputs": [
    {
     "name": "stdout",
     "output_type": "stream",
     "text": [
      "2\n"
     ]
    }
   ],
   "source": [
    "#Alternative longer Method\n",
    "text = 'This dog runs faster than the other dog dude!'\n",
    "text2 = text.split()\n",
    "counter = 0\n",
    "\n",
    "for x in text2:\n",
    "    if x=='dog':\n",
    "     counter +=1\n",
    "\n",
    "print(counter)"
   ]
  },
  {
   "cell_type": "code",
   "execution_count": 34,
   "id": "2f54935d",
   "metadata": {},
   "outputs": [
    {
     "name": "stdout",
     "output_type": "stream",
     "text": [
      "2\n"
     ]
    }
   ],
   "source": [
    "#Create a function that counts the number of times the word \"dog\" occurs in a string.\n",
    "\n",
    "def vibes(text):\n",
    "    \n",
    "    return text.count('dog')\n",
    "\n",
    "print(vibes(\"This dog runs faster than the other dog dude!\".lower()))"
   ]
  },
  {
   "cell_type": "code",
   "execution_count": 40,
   "id": "8482e50b",
   "metadata": {},
   "outputs": [
    {
     "name": "stdout",
     "output_type": "stream",
     "text": [
      "['soup', 'salad']\n"
     ]
    }
   ],
   "source": [
    "#Use lambda expressions and the filter() function to filter out words from a list that don't start with the letter 's'.\n",
    "\n",
    "seq = ['soup','dog','salad','cat','great']\n",
    "\n",
    "seq2 = filter(lambda x:x[0]=='s',seq)\n",
    "\n",
    "print(list(seq2))"
   ]
  },
  {
   "cell_type": "code",
   "execution_count": 45,
   "id": "263c2ea4",
   "metadata": {},
   "outputs": [
    {
     "name": "stdout",
     "output_type": "stream",
     "text": [
      "Big Ticket\n"
     ]
    }
   ],
   "source": [
    "def caught_speeding(speed):\n",
    "    if speed <= 60:\n",
    "        return \"No Ticket\"\n",
    "    elif speed > 60 and speed <=80:\n",
    "        return \"Small Ticket\"\n",
    "    else:\n",
    "        return \"Big Ticket\"\n",
    "    \n",
    "print(caught_speeding(81))"
   ]
  },
  {
   "cell_type": "code",
   "execution_count": null,
   "id": "ad44ac79",
   "metadata": {},
   "outputs": [],
   "source": []
  },
  {
   "cell_type": "code",
   "execution_count": null,
   "id": "2a537d1a",
   "metadata": {},
   "outputs": [],
   "source": []
  }
 ],
 "metadata": {
  "kernelspec": {
   "display_name": "Python 3 (ipykernel)",
   "language": "python",
   "name": "python3"
  },
  "language_info": {
   "codemirror_mode": {
    "name": "ipython",
    "version": 3
   },
   "file_extension": ".py",
   "mimetype": "text/x-python",
   "name": "python",
   "nbconvert_exporter": "python",
   "pygments_lexer": "ipython3",
   "version": "3.11.4"
  }
 },
 "nbformat": 4,
 "nbformat_minor": 5
}
