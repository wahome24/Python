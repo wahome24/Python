{
 "cells": [
  {
   "cell_type": "code",
   "execution_count": 4,
   "id": "8921da0a",
   "metadata": {},
   "outputs": [
    {
     "name": "stdout",
     "output_type": "stream",
     "text": [
      "Enter height in metres: 1.83\n",
      "Enter weight in Kgs: 74\n",
      "Your BMI of 22.1 is  normal weight!\n"
     ]
    }
   ],
   "source": [
    "#BMI Calculator \n",
    "#Formula used -  BMI = kg/m**2\n",
    "\n",
    "height = float(input('Enter height in metres: '))\n",
    "weight = float(input('Enter weight in Kgs: '))\n",
    "bmi = weight/height**2\n",
    "\n",
    "if bmi < 18.5:\n",
    "    print('Your BMI of {} is underweight!'.format(round(bmi,1)))\n",
    "elif bmi >= 18.5 and bmi <=24.9:\n",
    "    print('Your BMI of {} is  normal weight!'.format(round(bmi,1)))\n",
    "elif bmi >= 25 and bmi<=29.9:\n",
    "    print('Your BMI of {} is overweight!'.format(round(bmi,1)))\n",
    "else:\n",
    "    print('Your BMI of {} is obese!'.format(round(bmi,1)))"
   ]
  },
  {
   "cell_type": "code",
   "execution_count": null,
   "id": "1e7b4082",
   "metadata": {},
   "outputs": [],
   "source": []
  }
 ],
 "metadata": {
  "kernelspec": {
   "display_name": "Python 3 (ipykernel)",
   "language": "python",
   "name": "python3"
  },
  "language_info": {
   "codemirror_mode": {
    "name": "ipython",
    "version": 3
   },
   "file_extension": ".py",
   "mimetype": "text/x-python",
   "name": "python",
   "nbconvert_exporter": "python",
   "pygments_lexer": "ipython3",
   "version": "3.11.4"
  }
 },
 "nbformat": 4,
 "nbformat_minor": 5
}
