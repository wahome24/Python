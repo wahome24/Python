{
 "cells": [
  {
   "cell_type": "code",
   "execution_count": 3,
   "id": "2578fb99",
   "metadata": {},
   "outputs": [
    {
     "name": "stdout",
     "output_type": "stream",
     "text": [
      "Enter a two digit number:\n",
      " 30\n",
      "The sum of the two numbers is 3\n"
     ]
    }
   ],
   "source": [
    "#Simple program to return the sum of two digit number\n",
    "\n",
    "two_digit_number = input('Enter a two digit number:\\n ')\n",
    "\n",
    "#Since the input will be a string we can use indexing to access each of the digit\n",
    "a=two_digit_number[0]\n",
    "b=two_digit_number[1]\n",
    "\n",
    "#The string digits are then converted to type int for arithmetic operation\n",
    "c = int(a)+int(b)\n",
    "\n",
    "print('The sum of the two numbers is {}'.format(c))"
   ]
  },
  {
   "cell_type": "code",
   "execution_count": 8,
   "id": "f0e915d1",
   "metadata": {},
   "outputs": [
    {
     "data": {
      "text/plain": [
       "11"
      ]
     },
     "execution_count": 8,
     "metadata": {},
     "output_type": "execute_result"
    }
   ],
   "source": [
    "#Using a function\n",
    "\n",
    "def two_digit_number(x):\n",
    "    #convert x into string\n",
    "    num = str(x)\n",
    "    a = num[0]\n",
    "    b = num[1]\n",
    "    c = int(a)+int(b)\n",
    "    \n",
    "    return c\n",
    "\n",
    "two_digit_number(56)"
   ]
  },
  {
   "cell_type": "code",
   "execution_count": null,
   "id": "e70906a6",
   "metadata": {},
   "outputs": [],
   "source": []
  }
 ],
 "metadata": {
  "kernelspec": {
   "display_name": "Python 3 (ipykernel)",
   "language": "python",
   "name": "python3"
  },
  "language_info": {
   "codemirror_mode": {
    "name": "ipython",
    "version": 3
   },
   "file_extension": ".py",
   "mimetype": "text/x-python",
   "name": "python",
   "nbconvert_exporter": "python",
   "pygments_lexer": "ipython3",
   "version": "3.11.4"
  }
 },
 "nbformat": 4,
 "nbformat_minor": 5
}
