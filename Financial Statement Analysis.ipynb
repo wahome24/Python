{
 "cells": [
  {
   "cell_type": "markdown",
   "metadata": {},
   "source": [
    "## Financial Statement Analysis\n",
    "#### Link : https://sds-platform-private.s3-us-east-2.amazonaws.com/uploads/P4-Section3-Homework-Challenge.pdf"
   ]
  },
  {
   "cell_type": "code",
   "execution_count": 1,
   "metadata": {},
   "outputs": [],
   "source": [
    "#Finacial Statement Analysis\n",
    "#Data for 12 months\n",
    "\n",
    "revenue = [14574.49, 7606.46, 8611.41, 9175.41, 8058.65, 8105.44, 11496.28, 9766.09, 10305.32, 14379.96, 10713.97, 15433.50]\n",
    "expenses = [12051.82, 5695.07, 12319.20, 12089.72, 8658.57, 840.20, 3285.73, 5821.12, 6976.93, 16618.61, 10054.37, 3803.96]\n"
   ]
  },
  {
   "cell_type": "code",
   "execution_count": 2,
   "metadata": {},
   "outputs": [
    {
     "data": {
      "text/plain": [
       "array([ 2522.67,  1911.39, -3707.79, -2914.31,  -599.92,  7265.24,\n",
       "        8210.55,  3944.97,  3328.39, -2238.65,   659.6 , 11629.54])"
      ]
     },
     "execution_count": 2,
     "metadata": {},
     "output_type": "execute_result"
    }
   ],
   "source": [
    "#Import Numpy to make the arithetical operations easier\n",
    "import numpy as np\n",
    "\n",
    "#Profit for each month\n",
    "rev = np.array(revenue)\n",
    "exp = np.array(expenses)\n",
    "\n",
    "rev - exp"
   ]
  },
  {
   "cell_type": "code",
   "execution_count": 4,
   "metadata": {},
   "outputs": [
    {
     "data": {
      "text/plain": [
       "array([-1849.677,  -370.548, -6291.213, -5666.933, -3017.515,  4833.608,\n",
       "        4761.666,  1015.143,   236.794, -6552.638, -2554.591,  6999.49 ])"
      ]
     },
     "execution_count": 4,
     "metadata": {},
     "output_type": "execute_result"
    }
   ],
   "source": [
    "#Profit after tax (30% tax rate)\n",
    "\n",
    "tax = 0.30*rev\n",
    "revaftertax = rev-tax\n",
    "profitaftertax = revaftertax - exp\n",
    "profitaftertax"
   ]
  },
  {
   "cell_type": "code",
   "execution_count": 5,
   "metadata": {},
   "outputs": [
    {
     "data": {
      "text/plain": [
       "array([-12.69119537,  -4.87149081, -73.05671197, -61.76217738,\n",
       "       -37.44442307,  59.63412227,  41.41918951,  10.39456937,\n",
       "         2.29778406, -45.56784581, -23.84355192,  45.35257719])"
      ]
     },
     "execution_count": 5,
     "metadata": {},
     "output_type": "execute_result"
    }
   ],
   "source": [
    "#Profit Margin - profit after tax divided by revenue in %\n",
    "\n",
    "pMargin = (profitaftertax/rev)*100\n",
    "pMargin"
   ]
  },
  {
   "cell_type": "code",
   "execution_count": 28,
   "metadata": {},
   "outputs": [
    {
     "data": {
      "text/plain": [
       "array([-370.55, 4833.61, 4761.67, 1015.14,  236.79, 6999.49])"
      ]
     },
     "execution_count": 28,
     "metadata": {},
     "output_type": "execute_result"
    }
   ],
   "source": [
    "#good months - where the profit after tax was greater than the mean for the year\n",
    "mean = round(sum(profitaftertax)/12) #calculating the mean of profit after tax\n",
    "\n",
    "#Checking for months with a profit after tax greater that the mean\n",
    "\n",
    "good_months = list(filter(lambda x:x>mean,profitaftertax))\n",
    "\n",
    "np.around(np.array(good_months),2)"
   ]
  },
  {
   "cell_type": "code",
   "execution_count": 27,
   "metadata": {},
   "outputs": [
    {
     "data": {
      "text/plain": [
       "array([-1849.68, -6291.21, -5666.93, -3017.51, -6552.64, -2554.59])"
      ]
     },
     "execution_count": 27,
     "metadata": {},
     "output_type": "execute_result"
    }
   ],
   "source": [
    "#bad months - where the profit after tax was less than the mean for the year\n",
    "\n",
    "#Checking for months with a profit after tax greater that the mean\n",
    "\n",
    "bad_months = list(filter(lambda x:x<mean,profitaftertax))\n",
    "\n",
    "np.around(np.array(bad_months),2)"
   ]
  },
  {
   "cell_type": "code",
   "execution_count": 10,
   "metadata": {},
   "outputs": [
    {
     "data": {
      "text/plain": [
       "6999"
      ]
     },
     "execution_count": 10,
     "metadata": {},
     "output_type": "execute_result"
    }
   ],
   "source": [
    "#the best month - where the profit after tax was max for the year\n",
    "\n",
    "round(max(profitaftertax))"
   ]
  },
  {
   "cell_type": "code",
   "execution_count": 11,
   "metadata": {},
   "outputs": [
    {
     "data": {
      "text/plain": [
       "-6553"
      ]
     },
     "execution_count": 11,
     "metadata": {},
     "output_type": "execute_result"
    }
   ],
   "source": [
    "#the worst month - where the profit after tax was min for the year\n",
    "\n",
    "round(min(profitaftertax))"
   ]
  },
  {
   "cell_type": "code",
   "execution_count": null,
   "metadata": {},
   "outputs": [],
   "source": []
  }
 ],
 "metadata": {
  "kernelspec": {
   "display_name": "Python 3 (ipykernel)",
   "language": "python",
   "name": "python3"
  },
  "language_info": {
   "codemirror_mode": {
    "name": "ipython",
    "version": 3
   },
   "file_extension": ".py",
   "mimetype": "text/x-python",
   "name": "python",
   "nbconvert_exporter": "python",
   "pygments_lexer": "ipython3",
   "version": "3.11.4"
  }
 },
 "nbformat": 4,
 "nbformat_minor": 1
}
