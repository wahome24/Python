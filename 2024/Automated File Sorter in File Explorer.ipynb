{
 "cells": [
  {
   "cell_type": "markdown",
   "id": "f0aa3710",
   "metadata": {},
   "source": [
    "#### The purpose of this code is to sort the same file types into a single folder.\n",
    "#### For example all the files with a .png will be saved into a folder called images"
   ]
  },
  {
   "cell_type": "code",
   "execution_count": 22,
   "id": "537d398a",
   "metadata": {},
   "outputs": [],
   "source": [
    "import os\n",
    "import shutil"
   ]
  },
  {
   "cell_type": "code",
   "execution_count": 7,
   "id": "422e8e02",
   "metadata": {},
   "outputs": [],
   "source": [
    "#Path with the different file types that need to be sorted.\n",
    "\n",
    "path = r\"C:/Users/USER/Desktop/\""
   ]
  },
  {
   "cell_type": "code",
   "execution_count": 9,
   "id": "a5962f8e",
   "metadata": {},
   "outputs": [
    {
     "data": {
      "text/plain": [
       "['1-s2.0-S1877050920315465-main.pdf',\n",
       " 'Afrika Kommt.docx',\n",
       " 'CDS APR.png',\n",
       " 'CDS DEC.png',\n",
       " 'CDS FEB.png',\n",
       " 'CDS JAN.png',\n",
       " 'CDS MARCH.png',\n",
       " 'CDS MAY.png',\n",
       " 'CDS OCT.png',\n",
       " 'Change Initiative.docx',\n",
       " 'DATA',\n",
       " 'Degree Certificate.pdf',\n",
       " 'desktop.ini',\n",
       " 'DOCs',\n",
       " 'ID.pdf',\n",
       " 'Kaltura Capture.lnk',\n",
       " 'Logo-AK-Web.png',\n",
       " 'Mendeley Reference Manager.lnk',\n",
       " 'Microsoft Edge.lnk',\n",
       " 'MK_01-Expert-or-Communciation-Engagment-Specialist-for-Data-AI-Ethics-Bioethics-Unit.pdf',\n",
       " 'R',\n",
       " 'SAP_02-Ariba-User-Research-Insights-Contributor-.pdf',\n",
       " 'SQL',\n",
       " 'Station Data',\n",
       " 'Task 1 Report.docx',\n",
       " 'Zoom.lnk']"
      ]
     },
     "execution_count": 9,
     "metadata": {},
     "output_type": "execute_result"
    }
   ],
   "source": [
    "#Displaying the current list of files & folders before sorting\n",
    "\n",
    "os.listdir(path)"
   ]
  },
  {
   "cell_type": "code",
   "execution_count": 16,
   "id": "ec07ae9e",
   "metadata": {},
   "outputs": [],
   "source": [
    "#Checking if the required folders exist in our path directory and if not create them\n",
    "#For this example the folders do not exist\n",
    "\n",
    "folders_name = ['wordDocs','PDFs','Images'] #folders that we will be created\n",
    "\n",
    "for folder in range(len(folders_name)):\n",
    "    if not os.path.exists(path + folders_name[folder]):\n",
    "        os.makedirs(path + folders_name[folder])"
   ]
  },
  {
   "cell_type": "code",
   "execution_count": 18,
   "id": "1945ab9d",
   "metadata": {},
   "outputs": [
    {
     "name": "stdout",
     "output_type": "stream",
     "text": [
      "Folder already exist!\n",
      "Folder already exist!\n",
      "Folder already exist!\n"
     ]
    }
   ],
   "source": [
    "#Example where the folder already exist after running the previous code.\n",
    "\n",
    "for folder in range(len(folders_name)):\n",
    "    if not os.path.exists(path + folders_name[folder]):\n",
    "        os.makedirs(path + folders_name[folder])\n",
    "    else:\n",
    "        print(\"Folder already exist!\")"
   ]
  },
  {
   "cell_type": "code",
   "execution_count": 31,
   "id": "c5f63ac1",
   "metadata": {},
   "outputs": [],
   "source": [
    "#Moving files from the path directory to the created folders\n",
    "\n",
    "file_name = os.listdir(path)\n",
    "\n",
    "for file in file_name:\n",
    "    if \".png\" in file and not os.path.exists(path + \"Images/\" + file):\n",
    "        shutil.move(path + file, path + \"Images/\" + file)\n",
    "    \n",
    "    elif \".docx\" in file and not os.path.exists(path + \"wordDocs/\" + file):\n",
    "        shutil.move(path + file, path + \"wordDocs/\" + file)\n",
    "        \n",
    "    elif \".pdf\" in file and not os.path.exists(path + \"PDFs/\" + file):\n",
    "        shutil.move(path + file, path +  \"PDFs/\" + file)"
   ]
  },
  {
   "cell_type": "code",
   "execution_count": 32,
   "id": "f2e7ce6f",
   "metadata": {},
   "outputs": [
    {
     "name": "stdout",
     "output_type": "stream",
     "text": [
      "File already exist in folder!\n",
      "File already exist in folder!\n",
      "File already exist in folder!\n",
      "File already exist in folder!\n",
      "File already exist in folder!\n",
      "File already exist in folder!\n",
      "File already exist in folder!\n",
      "File already exist in folder!\n",
      "File already exist in folder!\n",
      "File already exist in folder!\n",
      "File already exist in folder!\n",
      "File already exist in folder!\n",
      "File already exist in folder!\n"
     ]
    }
   ],
   "source": [
    "#Trying to move file that have already been moved.\n",
    "\n",
    "file_name = os.listdir(path)\n",
    "\n",
    "for file in file_name:\n",
    "    if \".png\" in file and not os.path.exists(path + \"Images/\" + file):\n",
    "        shutil.move(path + file, path + \"Images/\" + file)\n",
    "    \n",
    "    elif \".docx\" in file and not os.path.exists(path + \"wordDocs/\" + file):\n",
    "        shutil.move(path + file, path + \"wordDocs/\" + file)\n",
    "        \n",
    "    elif \".pdf\" in file and not os.path.exists(path + \"PDFs/\" + file):\n",
    "        shutil.move(path + file, path +  \"PDFs/\" + file)\n",
    "        \n",
    "    else:\n",
    "        print('File already exist in folder!')"
   ]
  },
  {
   "cell_type": "code",
   "execution_count": 33,
   "id": "0452e107",
   "metadata": {},
   "outputs": [
    {
     "data": {
      "text/plain": [
       "['DATA',\n",
       " 'desktop.ini',\n",
       " 'DOCs',\n",
       " 'Images',\n",
       " 'Kaltura Capture.lnk',\n",
       " 'Mendeley Reference Manager.lnk',\n",
       " 'Microsoft Edge.lnk',\n",
       " 'PDFs',\n",
       " 'R',\n",
       " 'SQL',\n",
       " 'Station Data',\n",
       " 'wordDocs',\n",
       " 'Zoom.lnk']"
      ]
     },
     "execution_count": 33,
     "metadata": {},
     "output_type": "execute_result"
    }
   ],
   "source": [
    "#Displaying the current list of files & folders after sorting\n",
    "\n",
    "os.listdir(path)"
   ]
  },
  {
   "cell_type": "code",
   "execution_count": null,
   "id": "2cbba541",
   "metadata": {},
   "outputs": [],
   "source": []
  }
 ],
 "metadata": {
  "kernelspec": {
   "display_name": "Python 3 (ipykernel)",
   "language": "python",
   "name": "python3"
  },
  "language_info": {
   "codemirror_mode": {
    "name": "ipython",
    "version": 3
   },
   "file_extension": ".py",
   "mimetype": "text/x-python",
   "name": "python",
   "nbconvert_exporter": "python",
   "pygments_lexer": "ipython3",
   "version": "3.11.4"
  }
 },
 "nbformat": 4,
 "nbformat_minor": 5
}
