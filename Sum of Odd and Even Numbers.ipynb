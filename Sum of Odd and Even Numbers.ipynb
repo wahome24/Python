{
 "cells": [
  {
   "cell_type": "code",
   "execution_count": 5,
   "id": "29b0dd74",
   "metadata": {},
   "outputs": [
    {
     "data": {
      "text/plain": [
       "[18, 21]"
      ]
     },
     "execution_count": 5,
     "metadata": {},
     "output_type": "execute_result"
    }
   ],
   "source": [
    "#Write a function that takes a list of numbers and returns a list with two elements.\n",
    "#The first element should be the sum of all even numbers in the list.\n",
    "#The second element should be the sum of all odd numbers in the list.\n",
    "\n",
    "def sum_odd_and_even(*x):\n",
    "    \n",
    "    entry = list(x) #convert items passed into a list\n",
    "    even_sum = [] #list to hold even numbers\n",
    "    odd_sum = [] #list to hold odd numbers\n",
    "    result = []  #list to hold the sum of even and odd numbers\n",
    "    \n",
    "    \n",
    "    for num in entry:\n",
    "        if num%2 == 0:\n",
    "            even_sum.append(num)\n",
    "        else:\n",
    "            odd_sum.append(num)\n",
    "            \n",
    "    result.append(sum(even_sum))\n",
    "    result.append(sum(odd_sum))\n",
    "    return result\n",
    "        \n",
    "\n",
    "sum_odd_and_even(4,5,6,7,8,9)"
   ]
  },
  {
   "cell_type": "code",
   "execution_count": 18,
   "id": "3d7a2e2b",
   "metadata": {},
   "outputs": [
    {
     "data": {
      "text/plain": [
       "[12, 9]"
      ]
     },
     "execution_count": 18,
     "metadata": {},
     "output_type": "execute_result"
    }
   ],
   "source": [
    "#Alternative solution without using the sum function\n",
    "\n",
    "def sum_odd_and_even(*x):\n",
    "    entry = list(x)\n",
    "    even_sum = 0\n",
    "    odd_sum = 0\n",
    "    result = []\n",
    "    \n",
    "    for item in entry:\n",
    "        if item%2 == 0:\n",
    "            even_sum += item\n",
    "            \n",
    "        else:\n",
    "            odd_sum += item\n",
    "     \n",
    "    result.append(even_sum)\n",
    "    result.append(odd_sum)\n",
    "    \n",
    "    return result\n",
    "\n",
    "sum_odd_and_even(1, 2, 3, 4, 5, 6)"
   ]
  },
  {
   "cell_type": "code",
   "execution_count": null,
   "id": "15ada070",
   "metadata": {},
   "outputs": [],
   "source": []
  }
 ],
 "metadata": {
  "kernelspec": {
   "display_name": "Python 3 (ipykernel)",
   "language": "python",
   "name": "python3"
  },
  "language_info": {
   "codemirror_mode": {
    "name": "ipython",
    "version": 3
   },
   "file_extension": ".py",
   "mimetype": "text/x-python",
   "name": "python",
   "nbconvert_exporter": "python",
   "pygments_lexer": "ipython3",
   "version": "3.11.4"
  }
 },
 "nbformat": 4,
 "nbformat_minor": 5
}
