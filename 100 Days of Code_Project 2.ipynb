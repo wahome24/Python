{
 "cells": [
  {
   "cell_type": "code",
   "execution_count": 9,
   "id": "fe7c8b24",
   "metadata": {},
   "outputs": [
    {
     "name": "stdout",
     "output_type": "stream",
     "text": [
      "Welcome to the tip calculator\n",
      "\n",
      "What was the total bill? 200\n",
      "What percantage tip would you like to give? 10,12, or 15? 12\n",
      "How many people to split the bill?3\n",
      "Each person should pay $74.67\n"
     ]
    }
   ],
   "source": [
    "#Tip Calculator\n",
    "\n",
    "print('Welcome to the tip calculator')\n",
    "print()\n",
    "bill = int(input(\"What was the total bill? \"))\n",
    "percentage = int(input(\"What percantage tip would you like to give? 10,12, or 15? \"))\n",
    "people = int(input(\"How many people to split the bill?\"))\n",
    "\n",
    "#Calculating % tip\n",
    "\n",
    "if percentage == 10:\n",
    "     bill+= 0.1*bill\n",
    "elif percentage == 12:\n",
    "     bill+= 0.12*bill\n",
    "else:\n",
    "    bill+= 0.15*bill\n",
    "    \n",
    "#Calculating amount to be paid\n",
    "\n",
    "pay = bill/people\n",
    "\n",
    "#Display amount to be paid\n",
    "\n",
    "print(\"Each person should pay ${}\".format(round(pay,2)))\n"
   ]
  },
  {
   "cell_type": "code",
   "execution_count": 10,
   "id": "779eb3b6",
   "metadata": {},
   "outputs": [
    {
     "name": "stdout",
     "output_type": "stream",
     "text": [
      "Welcome to the tip calculator\n",
      "\n",
      "What was the total bill? 1000\n",
      "What percantage tip would you like to give?10\n",
      "How many people to split the bill?2\n",
      "Each person should pay $550.0\n"
     ]
    }
   ],
   "source": [
    "#Alternate Scenario where percentage bill is not fixed\n",
    "\n",
    "#Tip Calculator\n",
    "\n",
    "print('Welcome to the tip calculator')\n",
    "print()\n",
    "bill = int(input(\"What was the total bill? \"))\n",
    "percentage = int(input(\"What percantage tip would you like to give?\"))\n",
    "people = int(input(\"How many people to split the bill?\"))\n",
    "\n",
    "#Calculating % tip\n",
    "\n",
    "tip = (percentage/100)*bill\n",
    "\n",
    "bill+=tip\n",
    "    \n",
    "#Calculating amount to be paid\n",
    "\n",
    "pay = bill/people\n",
    "\n",
    "#Display amount to be paid\n",
    "\n",
    "print(\"Each person should pay ${}\".format(round(pay,2)))\n",
    "\n"
   ]
  },
  {
   "cell_type": "code",
   "execution_count": null,
   "id": "59138dbc",
   "metadata": {},
   "outputs": [],
   "source": []
  }
 ],
 "metadata": {
  "kernelspec": {
   "display_name": "Python 3 (ipykernel)",
   "language": "python",
   "name": "python3"
  },
  "language_info": {
   "codemirror_mode": {
    "name": "ipython",
    "version": 3
   },
   "file_extension": ".py",
   "mimetype": "text/x-python",
   "name": "python",
   "nbconvert_exporter": "python",
   "pygments_lexer": "ipython3",
   "version": "3.11.4"
  }
 },
 "nbformat": 4,
 "nbformat_minor": 5
}
