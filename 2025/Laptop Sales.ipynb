{
 "cells": [
  {
   "cell_type": "code",
   "execution_count": 1,
   "id": "7f268bfd",
   "metadata": {},
   "outputs": [],
   "source": [
    "import pandas as pd\n",
    "import numpy as np"
   ]
  },
  {
   "cell_type": "code",
   "execution_count": 2,
   "id": "0a306708",
   "metadata": {},
   "outputs": [
    {
     "data": {
      "text/html": [
       "<div>\n",
       "<style scoped>\n",
       "    .dataframe tbody tr th:only-of-type {\n",
       "        vertical-align: middle;\n",
       "    }\n",
       "\n",
       "    .dataframe tbody tr th {\n",
       "        vertical-align: top;\n",
       "    }\n",
       "\n",
       "    .dataframe thead th {\n",
       "        text-align: right;\n",
       "    }\n",
       "</style>\n",
       "<table border=\"1\" class=\"dataframe\">\n",
       "  <thead>\n",
       "    <tr style=\"text-align: right;\">\n",
       "      <th></th>\n",
       "      <th>Memory</th>\n",
       "      <th>Storage</th>\n",
       "      <th>CPU_class</th>\n",
       "      <th>Screen_size</th>\n",
       "      <th>year</th>\n",
       "      <th>price</th>\n",
       "    </tr>\n",
       "  </thead>\n",
       "  <tbody>\n",
       "    <tr>\n",
       "      <th>0</th>\n",
       "      <td>8</td>\n",
       "      <td>1024</td>\n",
       "      <td>3</td>\n",
       "      <td>16.0</td>\n",
       "      <td>2025</td>\n",
       "      <td>162021</td>\n",
       "    </tr>\n",
       "    <tr>\n",
       "      <th>1</th>\n",
       "      <td>32</td>\n",
       "      <td>1024</td>\n",
       "      <td>0</td>\n",
       "      <td>16.0</td>\n",
       "      <td>2024</td>\n",
       "      <td>112214</td>\n",
       "    </tr>\n",
       "    <tr>\n",
       "      <th>2</th>\n",
       "      <td>16</td>\n",
       "      <td>512</td>\n",
       "      <td>1</td>\n",
       "      <td>16.0</td>\n",
       "      <td>2025</td>\n",
       "      <td>118354</td>\n",
       "    </tr>\n",
       "    <tr>\n",
       "      <th>3</th>\n",
       "      <td>16</td>\n",
       "      <td>1024</td>\n",
       "      <td>1</td>\n",
       "      <td>16.0</td>\n",
       "      <td>2025</td>\n",
       "      <td>123383</td>\n",
       "    </tr>\n",
       "    <tr>\n",
       "      <th>4</th>\n",
       "      <td>16</td>\n",
       "      <td>256</td>\n",
       "      <td>3</td>\n",
       "      <td>16.0</td>\n",
       "      <td>2024</td>\n",
       "      <td>162968</td>\n",
       "    </tr>\n",
       "    <tr>\n",
       "      <th>...</th>\n",
       "      <td>...</td>\n",
       "      <td>...</td>\n",
       "      <td>...</td>\n",
       "      <td>...</td>\n",
       "      <td>...</td>\n",
       "      <td>...</td>\n",
       "    </tr>\n",
       "    <tr>\n",
       "      <th>995</th>\n",
       "      <td>16</td>\n",
       "      <td>256</td>\n",
       "      <td>2</td>\n",
       "      <td>15.6</td>\n",
       "      <td>2025</td>\n",
       "      <td>140531</td>\n",
       "    </tr>\n",
       "    <tr>\n",
       "      <th>996</th>\n",
       "      <td>16</td>\n",
       "      <td>512</td>\n",
       "      <td>1</td>\n",
       "      <td>14.0</td>\n",
       "      <td>2024</td>\n",
       "      <td>111736</td>\n",
       "    </tr>\n",
       "    <tr>\n",
       "      <th>997</th>\n",
       "      <td>16</td>\n",
       "      <td>1024</td>\n",
       "      <td>1</td>\n",
       "      <td>16.0</td>\n",
       "      <td>2024</td>\n",
       "      <td>121816</td>\n",
       "    </tr>\n",
       "    <tr>\n",
       "      <th>998</th>\n",
       "      <td>32</td>\n",
       "      <td>256</td>\n",
       "      <td>1</td>\n",
       "      <td>16.0</td>\n",
       "      <td>2024</td>\n",
       "      <td>127886</td>\n",
       "    </tr>\n",
       "    <tr>\n",
       "      <th>999</th>\n",
       "      <td>16</td>\n",
       "      <td>256</td>\n",
       "      <td>2</td>\n",
       "      <td>15.6</td>\n",
       "      <td>2025</td>\n",
       "      <td>140834</td>\n",
       "    </tr>\n",
       "  </tbody>\n",
       "</table>\n",
       "<p>1000 rows × 6 columns</p>\n",
       "</div>"
      ],
      "text/plain": [
       "     Memory  Storage  CPU_class  Screen_size  year   price\n",
       "0         8     1024          3         16.0  2025  162021\n",
       "1        32     1024          0         16.0  2024  112214\n",
       "2        16      512          1         16.0  2025  118354\n",
       "3        16     1024          1         16.0  2025  123383\n",
       "4        16      256          3         16.0  2024  162968\n",
       "..      ...      ...        ...          ...   ...     ...\n",
       "995      16      256          2         15.6  2025  140531\n",
       "996      16      512          1         14.0  2024  111736\n",
       "997      16     1024          1         16.0  2024  121816\n",
       "998      32      256          1         16.0  2024  127886\n",
       "999      16      256          2         15.6  2025  140834\n",
       "\n",
       "[1000 rows x 6 columns]"
      ]
     },
     "execution_count": 2,
     "metadata": {},
     "output_type": "execute_result"
    }
   ],
   "source": [
    "df = pd.read_csv(r\"C:\\Users\\USER\\Desktop\\DATA\\2025\\synthetic_wtp_laptop_data.csv\")\n",
    "df"
   ]
  },
  {
   "cell_type": "code",
   "execution_count": 4,
   "id": "5f753b4f",
   "metadata": {},
   "outputs": [
    {
     "data": {
      "text/plain": [
       "32    336\n",
       "8     334\n",
       "16    330\n",
       "Name: Memory, dtype: int64"
      ]
     },
     "execution_count": 4,
     "metadata": {},
     "output_type": "execute_result"
    }
   ],
   "source": [
    "df['Memory'].value_counts()"
   ]
  },
  {
   "cell_type": "code",
   "execution_count": 5,
   "id": "6aa2d4bb",
   "metadata": {},
   "outputs": [
    {
     "data": {
      "text/plain": [
       "256     339\n",
       "1024    331\n",
       "512     330\n",
       "Name: Storage, dtype: int64"
      ]
     },
     "execution_count": 5,
     "metadata": {},
     "output_type": "execute_result"
    }
   ],
   "source": [
    "df['Storage'].value_counts()"
   ]
  },
  {
   "cell_type": "code",
   "execution_count": 6,
   "id": "00fcbf96",
   "metadata": {},
   "outputs": [
    {
     "data": {
      "text/plain": [
       "1    260\n",
       "3    258\n",
       "0    248\n",
       "2    234\n",
       "Name: CPU_class, dtype: int64"
      ]
     },
     "execution_count": 6,
     "metadata": {},
     "output_type": "execute_result"
    }
   ],
   "source": [
    "df['CPU_class'].value_counts()"
   ]
  },
  {
   "cell_type": "code",
   "execution_count": 9,
   "id": "b8e5e204",
   "metadata": {},
   "outputs": [
    {
     "data": {
      "text/plain": [
       "16.0    336\n",
       "15.6    332\n",
       "14.0    332\n",
       "Name: Screen_size, dtype: int64"
      ]
     },
     "execution_count": 9,
     "metadata": {},
     "output_type": "execute_result"
    }
   ],
   "source": [
    "df['Screen_size'].value_counts()"
   ]
  },
  {
   "cell_type": "code",
   "execution_count": 10,
   "id": "23d0ced2",
   "metadata": {},
   "outputs": [
    {
     "data": {
      "text/plain": [
       "2025    524\n",
       "2024    476\n",
       "Name: year, dtype: int64"
      ]
     },
     "execution_count": 10,
     "metadata": {},
     "output_type": "execute_result"
    }
   ],
   "source": [
    "df['year'].value_counts()"
   ]
  },
  {
   "cell_type": "code",
   "execution_count": 39,
   "id": "6692f07e",
   "metadata": {},
   "outputs": [
    {
     "data": {
      "text/html": [
       "<div>\n",
       "<style scoped>\n",
       "    .dataframe tbody tr th:only-of-type {\n",
       "        vertical-align: middle;\n",
       "    }\n",
       "\n",
       "    .dataframe tbody tr th {\n",
       "        vertical-align: top;\n",
       "    }\n",
       "\n",
       "    .dataframe thead th {\n",
       "        text-align: right;\n",
       "    }\n",
       "</style>\n",
       "<table border=\"1\" class=\"dataframe\">\n",
       "  <thead>\n",
       "    <tr style=\"text-align: right;\">\n",
       "      <th></th>\n",
       "      <th>Memory</th>\n",
       "      <th>Storage</th>\n",
       "      <th>CPU_class</th>\n",
       "      <th>Screen_size</th>\n",
       "      <th>year</th>\n",
       "      <th>price</th>\n",
       "    </tr>\n",
       "  </thead>\n",
       "  <tbody>\n",
       "    <tr>\n",
       "      <th>78</th>\n",
       "      <td>16</td>\n",
       "      <td>512</td>\n",
       "      <td>1</td>\n",
       "      <td>14.0</td>\n",
       "      <td>2025</td>\n",
       "      <td>107978</td>\n",
       "    </tr>\n",
       "    <tr>\n",
       "      <th>204</th>\n",
       "      <td>16</td>\n",
       "      <td>512</td>\n",
       "      <td>1</td>\n",
       "      <td>14.0</td>\n",
       "      <td>2025</td>\n",
       "      <td>112676</td>\n",
       "    </tr>\n",
       "    <tr>\n",
       "      <th>254</th>\n",
       "      <td>16</td>\n",
       "      <td>512</td>\n",
       "      <td>1</td>\n",
       "      <td>14.0</td>\n",
       "      <td>2025</td>\n",
       "      <td>114057</td>\n",
       "    </tr>\n",
       "    <tr>\n",
       "      <th>289</th>\n",
       "      <td>16</td>\n",
       "      <td>512</td>\n",
       "      <td>1</td>\n",
       "      <td>14.0</td>\n",
       "      <td>2025</td>\n",
       "      <td>110083</td>\n",
       "    </tr>\n",
       "    <tr>\n",
       "      <th>419</th>\n",
       "      <td>16</td>\n",
       "      <td>512</td>\n",
       "      <td>1</td>\n",
       "      <td>14.0</td>\n",
       "      <td>2025</td>\n",
       "      <td>112671</td>\n",
       "    </tr>\n",
       "    <tr>\n",
       "      <th>915</th>\n",
       "      <td>16</td>\n",
       "      <td>512</td>\n",
       "      <td>1</td>\n",
       "      <td>14.0</td>\n",
       "      <td>2025</td>\n",
       "      <td>108857</td>\n",
       "    </tr>\n",
       "  </tbody>\n",
       "</table>\n",
       "</div>"
      ],
      "text/plain": [
       "     Memory  Storage  CPU_class  Screen_size  year   price\n",
       "78       16      512          1         14.0  2025  107978\n",
       "204      16      512          1         14.0  2025  112676\n",
       "254      16      512          1         14.0  2025  114057\n",
       "289      16      512          1         14.0  2025  110083\n",
       "419      16      512          1         14.0  2025  112671\n",
       "915      16      512          1         14.0  2025  108857"
      ]
     },
     "execution_count": 39,
     "metadata": {},
     "output_type": "execute_result"
    }
   ],
   "source": [
    "#Entries with the current specs\n",
    "\n",
    "current = df[(df['Memory'] == 16) & (df['Storage'] == 512) & (df['CPU_class'] == 1) & (df['Screen_size'] == 14.0) & (df['year'] == 2025)]\n",
    "\n",
    "current \n",
    "\n",
    "#current['price'].sum()"
   ]
  },
  {
   "cell_type": "code",
   "execution_count": 37,
   "id": "c6292c88",
   "metadata": {},
   "outputs": [
    {
     "data": {
      "text/html": [
       "<div>\n",
       "<style scoped>\n",
       "    .dataframe tbody tr th:only-of-type {\n",
       "        vertical-align: middle;\n",
       "    }\n",
       "\n",
       "    .dataframe tbody tr th {\n",
       "        vertical-align: top;\n",
       "    }\n",
       "\n",
       "    .dataframe thead th {\n",
       "        text-align: right;\n",
       "    }\n",
       "</style>\n",
       "<table border=\"1\" class=\"dataframe\">\n",
       "  <thead>\n",
       "    <tr style=\"text-align: right;\">\n",
       "      <th></th>\n",
       "      <th>Memory</th>\n",
       "      <th>Storage</th>\n",
       "      <th>CPU_class</th>\n",
       "      <th>Screen_size</th>\n",
       "      <th>year</th>\n",
       "      <th>price</th>\n",
       "    </tr>\n",
       "  </thead>\n",
       "  <tbody>\n",
       "    <tr>\n",
       "      <th>190</th>\n",
       "      <td>32</td>\n",
       "      <td>512</td>\n",
       "      <td>1</td>\n",
       "      <td>14.0</td>\n",
       "      <td>2025</td>\n",
       "      <td>132589</td>\n",
       "    </tr>\n",
       "    <tr>\n",
       "      <th>591</th>\n",
       "      <td>32</td>\n",
       "      <td>512</td>\n",
       "      <td>1</td>\n",
       "      <td>14.0</td>\n",
       "      <td>2025</td>\n",
       "      <td>132328</td>\n",
       "    </tr>\n",
       "    <tr>\n",
       "      <th>884</th>\n",
       "      <td>32</td>\n",
       "      <td>512</td>\n",
       "      <td>1</td>\n",
       "      <td>14.0</td>\n",
       "      <td>2025</td>\n",
       "      <td>126621</td>\n",
       "    </tr>\n",
       "  </tbody>\n",
       "</table>\n",
       "</div>"
      ],
      "text/plain": [
       "     Memory  Storage  CPU_class  Screen_size  year   price\n",
       "190      32      512          1         14.0  2025  132589\n",
       "591      32      512          1         14.0  2025  132328\n",
       "884      32      512          1         14.0  2025  126621"
      ]
     },
     "execution_count": 37,
     "metadata": {},
     "output_type": "execute_result"
    }
   ],
   "source": [
    "#with increase in memory only\n",
    "\n",
    "memory = df[(df['Memory'] == 32) & (df['Storage'] == 512) & (df['CPU_class'] == 1) & (df['Screen_size'] == 14.0) & (df['year'] == 2025)]\n",
    "\n",
    "memory\n",
    "\n",
    "#memory['price'].sum()"
   ]
  },
  {
   "cell_type": "code",
   "execution_count": 36,
   "id": "beada52d",
   "metadata": {},
   "outputs": [
    {
     "data": {
      "text/html": [
       "<div>\n",
       "<style scoped>\n",
       "    .dataframe tbody tr th:only-of-type {\n",
       "        vertical-align: middle;\n",
       "    }\n",
       "\n",
       "    .dataframe tbody tr th {\n",
       "        vertical-align: top;\n",
       "    }\n",
       "\n",
       "    .dataframe thead th {\n",
       "        text-align: right;\n",
       "    }\n",
       "</style>\n",
       "<table border=\"1\" class=\"dataframe\">\n",
       "  <thead>\n",
       "    <tr style=\"text-align: right;\">\n",
       "      <th></th>\n",
       "      <th>Memory</th>\n",
       "      <th>Storage</th>\n",
       "      <th>CPU_class</th>\n",
       "      <th>Screen_size</th>\n",
       "      <th>year</th>\n",
       "      <th>price</th>\n",
       "    </tr>\n",
       "  </thead>\n",
       "  <tbody>\n",
       "    <tr>\n",
       "      <th>39</th>\n",
       "      <td>16</td>\n",
       "      <td>1024</td>\n",
       "      <td>1</td>\n",
       "      <td>14.0</td>\n",
       "      <td>2025</td>\n",
       "      <td>117078</td>\n",
       "    </tr>\n",
       "  </tbody>\n",
       "</table>\n",
       "</div>"
      ],
      "text/plain": [
       "    Memory  Storage  CPU_class  Screen_size  year   price\n",
       "39      16     1024          1         14.0  2025  117078"
      ]
     },
     "execution_count": 36,
     "metadata": {},
     "output_type": "execute_result"
    }
   ],
   "source": [
    "#with increase in storage  only\n",
    "storage = df[(df['Memory'] == 16) & (df['Storage'] == 1024) & (df['CPU_class'] == 1) & (df['Screen_size'] == 14.0) & (df['year'] == 2025)]\n",
    "\n",
    "storage\n",
    "\n",
    "#storage['price'].sum()"
   ]
  },
  {
   "cell_type": "code",
   "execution_count": 33,
   "id": "6f26f15a",
   "metadata": {},
   "outputs": [
    {
     "data": {
      "text/html": [
       "<div>\n",
       "<style scoped>\n",
       "    .dataframe tbody tr th:only-of-type {\n",
       "        vertical-align: middle;\n",
       "    }\n",
       "\n",
       "    .dataframe tbody tr th {\n",
       "        vertical-align: top;\n",
       "    }\n",
       "\n",
       "    .dataframe thead th {\n",
       "        text-align: right;\n",
       "    }\n",
       "</style>\n",
       "<table border=\"1\" class=\"dataframe\">\n",
       "  <thead>\n",
       "    <tr style=\"text-align: right;\">\n",
       "      <th></th>\n",
       "      <th>Memory</th>\n",
       "      <th>Storage</th>\n",
       "      <th>CPU_class</th>\n",
       "      <th>Screen_size</th>\n",
       "      <th>year</th>\n",
       "      <th>price</th>\n",
       "    </tr>\n",
       "  </thead>\n",
       "  <tbody>\n",
       "  </tbody>\n",
       "</table>\n",
       "</div>"
      ],
      "text/plain": [
       "Empty DataFrame\n",
       "Columns: [Memory, Storage, CPU_class, Screen_size, year, price]\n",
       "Index: []"
      ]
     },
     "execution_count": 33,
     "metadata": {},
     "output_type": "execute_result"
    }
   ],
   "source": [
    "#with increase in CPU  only\n",
    "\n",
    "cpu = df[(df['Memory'] == 16) & (df['Storage'] == 512) & (df['CPU_class'] == 2) & (df['Screen_size'] == 14.0) & (df['year'] == 2025)]\n",
    "\n",
    "cpu\n",
    "\n",
    "#cpu['price'].sum()"
   ]
  },
  {
   "cell_type": "code",
   "execution_count": 31,
   "id": "6bad5891",
   "metadata": {},
   "outputs": [
    {
     "data": {
      "text/html": [
       "<div>\n",
       "<style scoped>\n",
       "    .dataframe tbody tr th:only-of-type {\n",
       "        vertical-align: middle;\n",
       "    }\n",
       "\n",
       "    .dataframe tbody tr th {\n",
       "        vertical-align: top;\n",
       "    }\n",
       "\n",
       "    .dataframe thead th {\n",
       "        text-align: right;\n",
       "    }\n",
       "</style>\n",
       "<table border=\"1\" class=\"dataframe\">\n",
       "  <thead>\n",
       "    <tr style=\"text-align: right;\">\n",
       "      <th></th>\n",
       "      <th>Memory</th>\n",
       "      <th>Storage</th>\n",
       "      <th>CPU_class</th>\n",
       "      <th>Screen_size</th>\n",
       "      <th>year</th>\n",
       "      <th>price</th>\n",
       "    </tr>\n",
       "  </thead>\n",
       "  <tbody>\n",
       "    <tr>\n",
       "      <th>2</th>\n",
       "      <td>16</td>\n",
       "      <td>512</td>\n",
       "      <td>1</td>\n",
       "      <td>16.0</td>\n",
       "      <td>2025</td>\n",
       "      <td>118354</td>\n",
       "    </tr>\n",
       "    <tr>\n",
       "      <th>29</th>\n",
       "      <td>16</td>\n",
       "      <td>512</td>\n",
       "      <td>1</td>\n",
       "      <td>16.0</td>\n",
       "      <td>2025</td>\n",
       "      <td>115800</td>\n",
       "    </tr>\n",
       "    <tr>\n",
       "      <th>129</th>\n",
       "      <td>16</td>\n",
       "      <td>512</td>\n",
       "      <td>1</td>\n",
       "      <td>16.0</td>\n",
       "      <td>2025</td>\n",
       "      <td>112681</td>\n",
       "    </tr>\n",
       "    <tr>\n",
       "      <th>155</th>\n",
       "      <td>16</td>\n",
       "      <td>512</td>\n",
       "      <td>1</td>\n",
       "      <td>16.0</td>\n",
       "      <td>2025</td>\n",
       "      <td>118166</td>\n",
       "    </tr>\n",
       "    <tr>\n",
       "      <th>322</th>\n",
       "      <td>16</td>\n",
       "      <td>512</td>\n",
       "      <td>1</td>\n",
       "      <td>16.0</td>\n",
       "      <td>2025</td>\n",
       "      <td>111182</td>\n",
       "    </tr>\n",
       "    <tr>\n",
       "      <th>472</th>\n",
       "      <td>16</td>\n",
       "      <td>512</td>\n",
       "      <td>1</td>\n",
       "      <td>16.0</td>\n",
       "      <td>2025</td>\n",
       "      <td>111775</td>\n",
       "    </tr>\n",
       "    <tr>\n",
       "      <th>489</th>\n",
       "      <td>16</td>\n",
       "      <td>512</td>\n",
       "      <td>1</td>\n",
       "      <td>16.0</td>\n",
       "      <td>2025</td>\n",
       "      <td>115633</td>\n",
       "    </tr>\n",
       "    <tr>\n",
       "      <th>607</th>\n",
       "      <td>16</td>\n",
       "      <td>512</td>\n",
       "      <td>1</td>\n",
       "      <td>16.0</td>\n",
       "      <td>2025</td>\n",
       "      <td>115921</td>\n",
       "    </tr>\n",
       "    <tr>\n",
       "      <th>832</th>\n",
       "      <td>16</td>\n",
       "      <td>512</td>\n",
       "      <td>1</td>\n",
       "      <td>16.0</td>\n",
       "      <td>2025</td>\n",
       "      <td>110960</td>\n",
       "    </tr>\n",
       "    <tr>\n",
       "      <th>957</th>\n",
       "      <td>16</td>\n",
       "      <td>512</td>\n",
       "      <td>1</td>\n",
       "      <td>16.0</td>\n",
       "      <td>2025</td>\n",
       "      <td>117968</td>\n",
       "    </tr>\n",
       "  </tbody>\n",
       "</table>\n",
       "</div>"
      ],
      "text/plain": [
       "     Memory  Storage  CPU_class  Screen_size  year   price\n",
       "2        16      512          1         16.0  2025  118354\n",
       "29       16      512          1         16.0  2025  115800\n",
       "129      16      512          1         16.0  2025  112681\n",
       "155      16      512          1         16.0  2025  118166\n",
       "322      16      512          1         16.0  2025  111182\n",
       "472      16      512          1         16.0  2025  111775\n",
       "489      16      512          1         16.0  2025  115633\n",
       "607      16      512          1         16.0  2025  115921\n",
       "832      16      512          1         16.0  2025  110960\n",
       "957      16      512          1         16.0  2025  117968"
      ]
     },
     "execution_count": 31,
     "metadata": {},
     "output_type": "execute_result"
    }
   ],
   "source": [
    "#with increase in size only\n",
    "\n",
    "size = df[(df['Memory'] == 16) & (df['Storage'] == 512) & (df['CPU_class'] == 1) & (df['Screen_size'] == 16.0) & (df['year'] == 2025)]\n",
    "\n",
    "size\n",
    "\n",
    "#size['price'].sum()"
   ]
  },
  {
   "cell_type": "markdown",
   "id": "f101c771",
   "metadata": {},
   "source": [
    "The models with the 16.0 screen size appear to be the most sold and increasing the size would increase the profit by 30,000 Yen\n",
    "\n",
    "This means Screen Size is the no 1 spec to increase profit followed by memory which would increase profit by 21,000"
   ]
  },
  {
   "cell_type": "code",
   "execution_count": null,
   "id": "3e97cd51",
   "metadata": {},
   "outputs": [],
   "source": []
  }
 ],
 "metadata": {
  "kernelspec": {
   "display_name": "Python [conda env:base] *",
   "language": "python",
   "name": "conda-base-py"
  },
  "language_info": {
   "codemirror_mode": {
    "name": "ipython",
    "version": 3
   },
   "file_extension": ".py",
   "mimetype": "text/x-python",
   "name": "python",
   "nbconvert_exporter": "python",
   "pygments_lexer": "ipython3",
   "version": "3.11.4"
  }
 },
 "nbformat": 4,
 "nbformat_minor": 5
}
