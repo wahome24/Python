{
 "cells": [
  {
   "cell_type": "code",
   "execution_count": 1,
   "id": "024c0bea",
   "metadata": {},
   "outputs": [],
   "source": [
    "#Write a script that prompts the user for a name (assume it will be a one-word string)\n",
    "#Change the string to lowercase and print it out in reverse, with only the first letter of the reversed word in uppercase. \n",
    "#If the name is the same forward as it is backward, add an additional print statement on the next line that says “Palindrome!”"
   ]
  },
  {
   "cell_type": "code",
   "execution_count": 28,
   "id": "7d8d975b",
   "metadata": {},
   "outputs": [
    {
     "name": "stdout",
     "output_type": "stream",
     "text": [
      "Enter your first or last name: ana\n",
      "Ana\n",
      "Palindrome!\n"
     ]
    }
   ],
   "source": [
    "user = input('Enter your first or last name: ').lower()\n",
    "\n",
    "if user[::-1]==user[0:]:\n",
    "    print(user[::-1].capitalize())\n",
    "    print('Palindrome!')\n",
    "else:\n",
    "    print(user[::-1].capitalize())"
   ]
  },
  {
   "cell_type": "code",
   "execution_count": null,
   "id": "251570c9",
   "metadata": {},
   "outputs": [],
   "source": []
  },
  {
   "cell_type": "code",
   "execution_count": null,
   "id": "53a20dbb",
   "metadata": {},
   "outputs": [],
   "source": []
  }
 ],
 "metadata": {
  "kernelspec": {
   "display_name": "Python 3 (ipykernel)",
   "language": "python",
   "name": "python3"
  },
  "language_info": {
   "codemirror_mode": {
    "name": "ipython",
    "version": 3
   },
   "file_extension": ".py",
   "mimetype": "text/x-python",
   "name": "python",
   "nbconvert_exporter": "python",
   "pygments_lexer": "ipython3",
   "version": "3.11.4"
  }
 },
 "nbformat": 4,
 "nbformat_minor": 5
}
